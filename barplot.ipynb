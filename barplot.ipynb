{
  "nbformat": 4,
  "nbformat_minor": 0,
  "metadata": {
    "colab": {
      "provenance": [],
      "authorship_tag": "ABX9TyORjhxGRr7cDORTnzeePDFr",
      "include_colab_link": true
    },
    "kernelspec": {
      "name": "python3",
      "display_name": "Python 3"
    },
    "language_info": {
      "name": "python"
    }
  },
  "cells": [
    {
      "cell_type": "markdown",
      "metadata": {
        "id": "view-in-github",
        "colab_type": "text"
      },
      "source": [
        "<a href=\"https://colab.research.google.com/github/pablex72/DataVilsualization-matplotlib-Seaborn/blob/main/barplot.ipynb\" target=\"_parent\"><img src=\"https://colab.research.google.com/assets/colab-badge.svg\" alt=\"Open In Colab\"/></a>"
      ]
    },
    {
      "cell_type": "markdown",
      "source": [
        "GRAFICO DE BARRAS: Nos permite graficar variables categoricas,,,, como variables de texto\n",
        "ejemplo: country = ['INDIA','JAPAN','MEXICO','COLOMBIA','GERMANY']\n"
      ],
      "metadata": {
        "id": "42L3D1s70BsV"
      }
    },
    {
      "cell_type": "code",
      "execution_count": 5,
      "metadata": {
        "id": "8wXzfKGXz-Qt"
      },
      "outputs": [],
      "source": [
        "import matplotlib.pyplot as plt\n",
        "import numpy as np"
      ]
    },
    {
      "cell_type": "code",
      "source": [
        "country = ['INDIA','JAPAN','MEXICO','COLOMBIA','GERMANY']\n",
        "population = [1000,800,300,500,700]"
      ],
      "metadata": {
        "id": "qFBZI7fx0paQ"
      },
      "execution_count": 6,
      "outputs": []
    },
    {
      "cell_type": "code",
      "source": [
        "plt.bar(country,population, width=0.5,color=['#adfdac','#eaeaeb'])\n",
        "plt.xticks(np.arange(5),('INDIA','JAPAN','MEXICO','COLOMBIA','GERMANY'),rotation=45)\n",
        "plt.show()"
      ],
      "metadata": {
        "colab": {
          "base_uri": "https://localhost:8080/",
          "height": 300
        },
        "id": "5vG9AP281bAg",
        "outputId": "95d517e8-c915-4af3-ce61-fc1e94f0209e"
      },
      "execution_count": 7,
      "outputs": [
        {
          "output_type": "display_data",
          "data": {
            "text/plain": [
              "<Figure size 432x288 with 1 Axes>"
            ],
            "image/png": "[encoded data removed]"
          },
          "metadata": {
            "needs_background": "light"
          }
        }
      ]
    },
    {
      "cell_type": "code",
      "source": [
        "plt.barh(country,population) \n",
        "plt.show()"
      ],
      "metadata": {
        "colab": {
          "base_uri": "https://localhost:8080/",
          "height": 265
        },
        "id": "hoTnEu8j2X_B",
        "outputId": "1cb1ff7b-63d7-404e-80f2-a58c930badd5"
      },
      "execution_count": 8,
      "outputs": [
        {
          "output_type": "display_data",
          "data": {
            "text/plain": [
              "<Figure size 432x288 with 1 Axes>"
            ],
            "image/png": "[encoded data removed]"
          },
          "metadata": {
            "needs_background": "light"
          }
        }
      ]
    },
    {
      "cell_type": "markdown",
      "source": [
        "OTROS GRAFICOS"
      ],
      "metadata": {
        "id": "g5DQDn353jWY"
      }
    },
    {
      "cell_type": "code",
      "source": [
        "data = np.random.randint(1,50,100)\n",
        "data"
      ],
      "metadata": {
        "colab": {
          "base_uri": "https://localhost:8080/"
        },
        "id": "AwZGIdyZ3lP1",
        "outputId": "464ba64a-be92-463b-eb22-1df611d43c91"
      },
      "execution_count": 9,
      "outputs": [
        {
          "output_type": "execute_result",
          "data": {
            "text/plain": [
              "array([34, 29,  4, 38, 37,  2, 45,  2,  1, 30, 23, 37, 30, 12, 37, 22, 20,\n",
              "        4, 29, 13, 18,  9, 33, 23, 10, 30, 24,  4, 42, 47,  2, 22, 37, 16,\n",
              "       12,  3, 45, 13, 23, 16, 23, 37, 49,  4, 41, 37,  3, 46, 38, 24, 49,\n",
              "        8,  9, 31, 31, 37,  8,  9, 31, 46, 25, 17, 31,  5, 45,  2,  3, 32,\n",
              "       30, 43, 24, 14,  7, 11, 22, 36, 15, 32, 26, 11, 13, 20, 40, 10, 27,\n",
              "       16,  2,  7,  8, 17, 24, 18, 44,  5, 38, 23, 11, 11, 12, 38])"
            ]
          },
          "metadata": {},
          "execution_count": 9
        }
      ]
    },
    {
      "cell_type": "markdown",
      "source": [
        "histograma--> Para analizar distribucion de frecuencia-- distribucion que tenemos en los datos"
      ],
      "metadata": {
        "id": "zUflbuT_3y5q"
      }
    },
    {
      "cell_type": "code",
      "source": [
        "plt.hist(data,bins=50,width=5,histtype='bar')\n",
        "plt.show()"
      ],
      "metadata": {
        "colab": {
          "base_uri": "https://localhost:8080/",
          "height": 265
        },
        "id": "I3GgozedXFL3",
        "outputId": "e67cb744-be5b-43f8-8eb2-e04a0649d351"
      },
      "execution_count": 13,
      "outputs": [
        {
          "output_type": "display_data",
          "data": {
            "text/plain": [
              "<Figure size 432x288 with 1 Axes>"
            ],
            "image/png": "[encoded data removed]"
          },
          "metadata": {
            "needs_background": "light"
          }
        }
      ]
    },
    {
      "cell_type": "code",
      "source": [
        "plt.hist(data,bins=50,histtype='step')\n",
        "plt.show()"
      ],
      "metadata": {
        "colab": {
          "base_uri": "https://localhost:8080/",
          "height": 265
        },
        "id": "VnudKTi2YDqL",
        "outputId": "c900ebab-ffc6-4a47-c469-2f8ecaa39e84"
      },
      "execution_count": 15,
      "outputs": [
        {
          "output_type": "display_data",
          "data": {
            "text/plain": [
              "<Figure size 432x288 with 1 Axes>"
            ],
            "image/png": "[encoded data removed]"
          },
          "metadata": {
            "needs_background": "light"
          }
        }
      ]
    },
    {
      "cell_type": "code",
      "source": [],
      "metadata": {
        "id": "2kiIlHmjYMdB"
      },
      "execution_count": null,
      "outputs": []
    },
    {
      "cell_type": "markdown",
      "source": [
        "**Boxplot** --> cajas ybigotes: muestra rango intercuartilico>> 1er,2do,3er y 4to 25% -- donde se encuentra la mediana o percentil 50\n",
        "para Distribucion de datos"
      ],
      "metadata": {
        "id": "qmZzczfea9xU"
      }
    },
    {
      "cell_type": "code",
      "source": [
        "plt.boxplot(data, vert=False,patch_artist=True,notch=True)\n",
        "plt.show()"
      ],
      "metadata": {
        "colab": {
          "base_uri": "https://localhost:8080/",
          "height": 265
        },
        "id": "FdGppyALbAbF",
        "outputId": "92fd86c5-a1cf-40aa-93b0-5c2a32b78c21"
      },
      "execution_count": 19,
      "outputs": [
        {
          "output_type": "display_data",
          "data": {
            "text/plain": [
              "<Figure size 432x288 with 1 Axes>"
            ],
            "image/png": "[encoded data removed]"
          },
          "metadata": {
            "needs_background": "light"
          }
        }
      ]
    },
    {
      "cell_type": "code",
      "source": [
        "#datos anomalo o outlayers\n",
        "data = np.append(data,200)\n",
        "plt.boxplot(data, vert=False,patch_artist=True,notch=True)\n",
        "plt.show()"
      ],
      "metadata": {
        "colab": {
          "base_uri": "https://localhost:8080/",
          "height": 265
        },
        "id": "AZ_9xjwubvpc",
        "outputId": "28a738e5-d748-404b-d8c6-9077c87f30ab"
      },
      "execution_count": 20,
      "outputs": [
        {
          "output_type": "display_data",
          "data": {
            "text/plain": [
              "<Figure size 432x288 with 1 Axes>"
            ],
            "image/png": "[encoded data removed]"
          },
          "metadata": {
            "needs_background": "light"
          }
        }
      ]
    },
    {
      "cell_type": "code",
      "source": [
        "##GRAFICO DE DISPERSION O SCATER\n",
        "N=50\n",
        "x=np.random.rand(N)\n",
        "y=np.random.rand(N)\n",
        "area = (30 * np.random.rand(N)) **2\n",
        "colors = np.random.rand(N)"
      ],
      "metadata": {
        "id": "t92xE_KUcOAC"
      },
      "execution_count": 21,
      "outputs": []
    },
    {
      "cell_type": "code",
      "source": [
        "plt.scatter(x,y,s=area, c=colors,marker='>',alpha=0.5)\n",
        "plt.show()"
      ],
      "metadata": {
        "colab": {
          "base_uri": "https://localhost:8080/",
          "height": 265
        },
        "id": "rznid975cj8m",
        "outputId": "f624a66f-1a1f-423f-eb85-1a6b434c241a"
      },
      "execution_count": 27,
      "outputs": [
        {
          "output_type": "display_data",
          "data": {
            "text/plain": [
              "<Figure size 432x288 with 1 Axes>"
            ],
            "image/png": "[encoded data removed]"
          },
          "metadata": {
            "needs_background": "light"
          }
        }
      ]
    }
  ]
}